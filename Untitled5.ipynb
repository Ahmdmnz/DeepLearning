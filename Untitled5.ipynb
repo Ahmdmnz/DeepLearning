{
  "nbformat": 4,
  "nbformat_minor": 0,
  "metadata": {
    "colab": {
      "provenance": [],
      "gpuType": "T4"
    },
    "kernelspec": {
      "name": "python3",
      "display_name": "Python 3"
    },
    "language_info": {
      "name": "python"
    },
    "accelerator": "GPU"
  },
  "cells": [
    {
      "cell_type": "code",
      "execution_count": 7,
      "metadata": {
        "colab": {
          "base_uri": "https://localhost:8080/"
        },
        "id": "4ffZQfArO_K-",
        "outputId": "e9bcfffb-3074-495b-d584-4bde712e3a31"
      },
      "outputs": [
        {
          "output_type": "stream",
          "name": "stdout",
          "text": [
            "Files already downloaded and verified\n",
            "Files already downloaded and verified\n",
            "Epoch 1, Loss: 0.8045\n",
            "Epoch 2, Loss: 0.6360\n",
            "Epoch 3, Loss: 0.6192\n",
            "Epoch 4, Loss: 0.6049\n",
            "Epoch 5, Loss: 0.6001\n",
            "Epoch 6, Loss: 0.6002\n",
            "Epoch 7, Loss: 0.5911\n",
            "Epoch 8, Loss: 0.5853\n",
            "Epoch 9, Loss: 0.5862\n",
            "Epoch 10, Loss: 0.5816\n",
            "Epoch 11, Loss: 0.5853\n",
            "Epoch 12, Loss: 0.5824\n",
            "Epoch 13, Loss: 0.5818\n",
            "Epoch 14, Loss: 0.5801\n",
            "Epoch 15, Loss: 0.5804\n",
            "Epoch 16, Loss: 0.5806\n",
            "Epoch 17, Loss: 0.5798\n",
            "Epoch 18, Loss: 0.5767\n",
            "Epoch 19, Loss: 0.5779\n",
            "Epoch 20, Loss: 0.5743\n",
            "Accuracy on test set: 79.45%\n"
          ]
        }
      ],
      "source": [
        "import torch\n",
        "import torch.nn as nn\n",
        "import torch.optim as optim\n",
        "import torchvision\n",
        "import torchvision.transforms as transforms\n",
        "from torchvision import models\n",
        "\n",
        "# Define transformations for the dataset\n",
        "transform = transforms.Compose([\n",
        "    transforms.Resize((224, 224)),  # Resize to match ResNet input size\n",
        "    transforms.ToTensor(),\n",
        "    transforms.Normalize((0.5, 0.5, 0.5), (0.5, 0.5, 0.5))\n",
        "])\n",
        "\n",
        "# Load CIFAR-10 dataset\n",
        "trainset = torchvision.datasets.CIFAR10(root='./data', train=True, download=True, transform=transform)\n",
        "trainloader = torch.utils.data.DataLoader(trainset, batch_size=32, shuffle=True)\n",
        "\n",
        "testset = torchvision.datasets.CIFAR10(root='./data', train=False, download=True, transform=transform)\n",
        "testloader = torch.utils.data.DataLoader(testset, batch_size=32, shuffle=False)\n",
        "\n",
        "# Load pretrained ResNet-18 model\n",
        "model = models.resnet18(pretrained=True)\n",
        "\n",
        "# Freeze the first few layers\n",
        "for param in model.conv1.parameters():\n",
        "    param.requires_grad = False\n",
        "for param in model.bn1.parameters():\n",
        "    param.requires_grad = False\n",
        "for param in model.layer1.parameters():  # Freezing first residual block\n",
        "    param.requires_grad = False\n",
        "\n",
        "# Modify the fully connected layer for CIFAR-10 (10 classes)\n",
        "in_features = model.fc.in_features\n",
        "model.fc = nn.Linear(in_features, 10)\n",
        "\n",
        "# Define loss function and optimizer\n",
        "criterion = nn.CrossEntropyLoss()\n",
        "optimizer = optim.Adam(model.fc.parameters(), lr=0.001)\n",
        "\n",
        "device = torch.device(\"cuda\" if torch.cuda.is_available() else \"cpu\")\n",
        "model.to(device)\n",
        "\n",
        "# Training loop\n",
        "epochs = 20\n",
        "for epoch in range(epochs):\n",
        "    model.train()\n",
        "    running_loss = 0.0\n",
        "    for images, labels in trainloader:\n",
        "        images, labels = images.to(device), labels.to(device)\n",
        "\n",
        "        optimizer.zero_grad()\n",
        "        outputs = model(images)\n",
        "        loss = criterion(outputs, labels)\n",
        "        loss.backward()\n",
        "        optimizer.step()\n",
        "\n",
        "        running_loss += loss.item()\n",
        "\n",
        "    print(f\"Epoch {epoch+1}, Loss: {running_loss/len(trainloader):.4f}\")\n",
        "\n",
        "# Evaluate model\n",
        "model.eval()\n",
        "correct = 0\n",
        "total = 0\n",
        "with torch.no_grad():\n",
        "    for images, labels in testloader:\n",
        "        images, labels = images.to(device), labels.to(device)\n",
        "        outputs = model(images)\n",
        "        _, predicted = torch.max(outputs, 1)\n",
        "        total += labels.size(0)\n",
        "        correct += (predicted == labels).sum().item()\n",
        "\n",
        "print(f'Accuracy on test set: {100 * correct / total:.2f}%')"
      ]
    }
  ]
}